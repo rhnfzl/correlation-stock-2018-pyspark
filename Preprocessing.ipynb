{
 "cells": [
  {
   "cell_type": "code",
   "execution_count": 1,
   "metadata": {},
   "outputs": [],
   "source": [
    "import numpy as np\n",
    "import pandas as pd\n",
    "import matplotlib.pyplot as plt\n",
    "%matplotlib inline\n",
    "#from tqdm.notebook import tqdm\n",
    "from tqdm import tqdm_notebook, tqdm\n",
    "import os"
   ]
  },
  {
   "cell_type": "markdown",
   "metadata": {},
   "source": [
    "### Preprocessing"
   ]
  },
  {
   "cell_type": "code",
   "execution_count": 3,
   "metadata": {},
   "outputs": [],
   "source": [
    "stocks = pd.read_csv(\"nice_stocks_to_study.txt\", index_col=0)"
   ]
  },
  {
   "cell_type": "code",
   "execution_count": 4,
   "metadata": {},
   "outputs": [
    {
     "name": "stdout",
     "output_type": "stream",
     "text": [
      "(1716, 2)\n"
     ]
    },
    {
     "data": {
      "text/html": [
       "<div>\n",
       "<style scoped>\n",
       "    .dataframe tbody tr th:only-of-type {\n",
       "        vertical-align: middle;\n",
       "    }\n",
       "\n",
       "    .dataframe tbody tr th {\n",
       "        vertical-align: top;\n",
       "    }\n",
       "\n",
       "    .dataframe thead th {\n",
       "        text-align: right;\n",
       "    }\n",
       "</style>\n",
       "<table border=\"1\" class=\"dataframe\">\n",
       "  <thead>\n",
       "    <tr style=\"text-align: right;\">\n",
       "      <th></th>\n",
       "      <th>Stock_Exchange</th>\n",
       "      <th>Stock</th>\n",
       "    </tr>\n",
       "  </thead>\n",
       "  <tbody>\n",
       "    <tr>\n",
       "      <th>0</th>\n",
       "      <td>Amsterdam</td>\n",
       "      <td>AALB</td>\n",
       "    </tr>\n",
       "    <tr>\n",
       "      <th>1</th>\n",
       "      <td>Amsterdam</td>\n",
       "      <td>AGN</td>\n",
       "    </tr>\n",
       "    <tr>\n",
       "      <th>2</th>\n",
       "      <td>Amsterdam</td>\n",
       "      <td>AKZA</td>\n",
       "    </tr>\n",
       "    <tr>\n",
       "      <th>3</th>\n",
       "      <td>Amsterdam</td>\n",
       "      <td>APAM</td>\n",
       "    </tr>\n",
       "    <tr>\n",
       "      <th>4</th>\n",
       "      <td>Amsterdam</td>\n",
       "      <td>ASML</td>\n",
       "    </tr>\n",
       "  </tbody>\n",
       "</table>\n",
       "</div>"
      ],
      "text/plain": [
       "  Stock_Exchange Stock\n",
       "0      Amsterdam  AALB\n",
       "1      Amsterdam   AGN\n",
       "2      Amsterdam  AKZA\n",
       "3      Amsterdam  APAM\n",
       "4      Amsterdam  ASML"
      ]
     },
     "execution_count": 4,
     "metadata": {},
     "output_type": "execute_result"
    }
   ],
   "source": [
    "print(stocks.shape)\n",
    "stocks.head()"
   ]
  },
  {
   "cell_type": "code",
   "execution_count": 5,
   "metadata": {},
   "outputs": [],
   "source": [
    "common_stock_ex = [\n",
    "    'CBOT-mini',\n",
    "    'CME-eMini',\n",
    "    'COMEX',\n",
    "    'NYMEX',\n",
    "    'ICE-Europe-Commodities',\n",
    "    'CBOT',\n",
    "    'Eurex',\n",
    "    'Forex',\n",
    "    'CME',\n",
    "    'ICE-US'\n",
    "]"
   ]
  },
  {
   "cell_type": "code",
   "execution_count": 6,
   "metadata": {},
   "outputs": [],
   "source": [
    "asian_stock_ex = [\n",
    "    'NIKKEI',\n",
    "    'Shanghai',\n",
    "    'Singapur',\n",
    "    'Sydney',\n",
    "    'Tokio',   \n",
    "]"
   ]
  },
  {
   "cell_type": "code",
   "execution_count": 7,
   "metadata": {},
   "outputs": [],
   "source": [
    "european_stock_ex = [\n",
    "    'Amsterdam',\n",
    "    'Athen',\n",
    "    'Helsinki',\n",
    "    'Johannesburg',  # South Africa but it has the same timezone as in NL\n",
    "    'Kopenhagen',\n",
    "    'Lissabon',\n",
    "    'London',\n",
    "    'Madrid',\n",
    "    'Mailand', # Milan\n",
    "    'Oslo',\n",
    "    'Paris',\n",
    "    'Stockholm',\n",
    "    'Swiss-Exchange',\n",
    "    'Xetra' # Deutsche Börse Xetra   \n",
    "]"
   ]
  },
  {
   "cell_type": "code",
   "execution_count": 8,
   "metadata": {},
   "outputs": [],
   "source": [
    "american_stock_ex = [\n",
    "    'NASDAQ',\n",
    "    'NYSE',\n",
    "    'NYSE-American',\n",
    "    'OTC-Markets',\n",
    "    'Toronto'\n",
    "]"
   ]
  },
  {
   "cell_type": "code",
   "execution_count": 9,
   "metadata": {},
   "outputs": [],
   "source": [
    "stocks_eu = stocks[(stocks['Stock_Exchange'].isin(european_stock_ex)) & (stocks['Stock'] != 'FBRIC')]"
   ]
  },
  {
   "cell_type": "code",
   "execution_count": 10,
   "metadata": {},
   "outputs": [
    {
     "data": {
      "text/plain": [
       "Stock_Exchange\n",
       "Johannesburg        1\n",
       "Helsinki            9\n",
       "Lissabon           12\n",
       "Kopenhagen         17\n",
       "Athen              18\n",
       "Oslo               20\n",
       "Amsterdam          25\n",
       "Mailand            31\n",
       "Madrid             33\n",
       "Swiss-Exchange     36\n",
       "Stockholm          39\n",
       "Paris              72\n",
       "Xetra              79\n",
       "London            148\n",
       "Name: Stock, dtype: int64"
      ]
     },
     "execution_count": 10,
     "metadata": {},
     "output_type": "execute_result"
    }
   ],
   "source": [
    "stocks_eu.groupby(\"Stock_Exchange\")['Stock'].nunique().sort_values()"
   ]
  },
  {
   "cell_type": "markdown",
   "metadata": {},
   "source": [
    "## PREPROCESSING"
   ]
  },
  {
   "cell_type": "code",
   "execution_count": 31,
   "metadata": {},
   "outputs": [],
   "source": [
    "PATH2018year = \"../../2018year\"   # all yearly data for each stock\n",
    "\n",
    "OUT_FOLDER_SE = \"../../2018_SE_AGG\"   # output folder for aggregated data by STOCK_EXCHANGE\n",
    "OUT_FOLDER_CLUSTERS = \"../../2018_CLUSTER_AGG\"   # output folder for aggregated data by CLUSTER\n",
    "\n",
    "colnames = ['Date', 'Time', 'Open', 'High', 'Low', 'Close', 'Volume']"
   ]
  },
  {
   "cell_type": "markdown",
   "metadata": {},
   "source": [
    "1) aggregate data of one stock"
   ]
  },
  {
   "cell_type": "code",
   "execution_count": 32,
   "metadata": {},
   "outputs": [],
   "source": [
    "def aggregate_one_stock_data(stock_name, value_columns, agg_interval, \n",
    "                             interpolate=None, vertical=True, stock_folder=PATH2018year):\n",
    "\n",
    "    filename = \"2018_\" + stock_name + \".txt\"\n",
    "    stock_path = os.path.join(stock_folder, filename)\n",
    "\n",
    "    s = pd.read_csv(stock_path, names=colnames)\n",
    "    s['Timestamp'] = pd.to_datetime(s.apply(lambda row: str(row['Date']) + ' ' + str(row['Time']), axis=1))\n",
    "    s.set_index(\"Timestamp\", inplace=True)\n",
    "    s = s[value_columns]\n",
    "    s = s.resample(agg_interval, label='right', closed='right').mean()\n",
    "\n",
    "    if interpolate:\n",
    "        s = s.interpolate(method='linear',  limit=interpolate)\n",
    "\n",
    "    s.dropna(inplace=True)\n",
    "    s.rename(columns={col:stock_name+\"_\"+col+\"_agg_\"+agg_interval for col in s.columns}, inplace=True)\n",
    "    \n",
    "    if vertical:\n",
    "        return s\n",
    "    \n",
    "    else:\n",
    "        return s.T # not relevant but let's keep it"
   ]
  },
  {
   "cell_type": "code",
   "execution_count": 33,
   "metadata": {},
   "outputs": [],
   "source": [
    "## Example\n",
    "\n",
    "#s = aggregate_one_stock_data(\"Amsterdam_AALB\", [\"Open\", \"Close\", \"Volume\"], \"15min\")\n",
    "##s = aggregate_one_stock_data(\"Amsterdam_AALB\", [\"Open\", \"Close\", \"Volume\"], \"15min\", interpolate=2)\n",
    "\n",
    "#print(s.shape)\n",
    "#s.head(3)"
   ]
  },
  {
   "cell_type": "markdown",
   "metadata": {},
   "source": [
    "2) merge data of all stocks for a particular stock exchange"
   ]
  },
  {
   "cell_type": "code",
   "execution_count": 34,
   "metadata": {},
   "outputs": [],
   "source": [
    "def aggregate_stocks_for_one_stock_exchange(stock_exchange_name, value_columns, agg_interval, \n",
    "                                            interpolate=None, vertical=True, stock_folder=PATH2018year, \n",
    "                                            output_folder=OUT_FOLDER_SE, dropna=True, write=True,\n",
    "                                            name_appendix_value_columns=False):\n",
    "\n",
    "    files = sorted(os.listdir(stock_folder))\n",
    "    se_data = []\n",
    "\n",
    "    for file in files:\n",
    "        if (file.split(\"_\")[1] == stock_exchange_name):\n",
    "            print(file)\n",
    "            stock = file.split(\"_\")[2][:-4]  # cut .txt\n",
    "            \n",
    "            df = aggregate_one_stock_data(stock_name=stock_exchange_name + \"_\" + stock, \n",
    "                                          value_columns=value_columns,\n",
    "                                          agg_interval=agg_interval,\n",
    "                                          interpolate=interpolate,\n",
    "                                          vertical=vertical,\n",
    "                                          stock_folder=stock_folder)\n",
    "            se_data.append(df)\n",
    "\n",
    "    print(stock_exchange_name, \": Started writing...\")\n",
    "    if name_appendix_value_columns:\n",
    "        appdx = \"_cols_\" + \"_\".join(value_columns)\n",
    "    else:\n",
    "        appdx=\"\"\n",
    "    output_filename = \"2018_\" + stock_exchange_name + appdx + \"_agg_\" + agg_interval + \".txt\"\n",
    "    \n",
    "    if vertical:\n",
    "        se_data = pd.concat(se_data, axis=1)\n",
    "        print(f\"Stock Exchange: {stock_exchange_name}, data.shape: {se_data.shape}, \" + \\\n",
    "               f\"data.dropna().shape: {se_data.dropna().shape}\")\n",
    "                # index=True because we will need to merge different stock exchanges within cluster\n",
    "    else:\n",
    "        pass\n",
    "        # not actually needed, we will transpose the dataframe later\n",
    "        ##se_data = pd.concat(se_data)\n",
    "        ##se_data.to_csv(os.path.join(output_folder, \"2018_\" + stock_exchange_name + \".txt\"), header=False)\n",
    "\n",
    "    if dropna:\n",
    "        se_data.dropna(inplace=True)\n",
    "\n",
    "    if write:\n",
    "        se_data.to_csv(os.path.join(output_folder, output_filename), index=True) \n",
    "\n",
    "    return se_data"
   ]
  },
  {
   "cell_type": "code",
   "execution_count": 35,
   "metadata": {},
   "outputs": [],
   "source": [
    "# Example\n",
    "#df = aggregate_stocks_for_one_stock_exchange(\"Amsterdam\", [\"Open\", \"Close\", \"Volume\"], \"15min\")\n",
    "\n",
    "# Wall time: 5min 2s\n",
    "\n",
    "# df.shape, df.dropna().shape"
   ]
  },
  {
   "cell_type": "markdown",
   "metadata": {},
   "source": [
    "3) Merge data by for one cluster (list of multiple stock exchanges)"
   ]
  },
  {
   "cell_type": "code",
   "execution_count": 36,
   "metadata": {},
   "outputs": [],
   "source": [
    "def merge_cluster(stock_exchange_list, agg_interval, output_filename, \n",
    "                   dropna=True, write=False, vertical=False, aligned_Q1=False, round_decimals=None,\n",
    "                   stock_exchange_folder=OUT_FOLDER_SE, output_folder_clusters=OUT_FOLDER_CLUSTERS,\n",
    "                   appdx=\"\"):\n",
    "\n",
    "    data = []\n",
    "    for se in tqdm(stock_exchange_list):\n",
    "\n",
    "        if aligned_Q1:\n",
    "            filename = \"2018_\" + se + appdx + \"_agg_\" + agg_interval + \"__aligned_by_Q1.txt\"\n",
    "        else:\n",
    "            filename = \"2018_\" + se + appdx + \"_agg_\" + agg_interval + \".txt\"\n",
    "\n",
    "        se_data = pd.read_csv(os.path.join(stock_exchange_folder, filename), index_col=0)\n",
    "        print(f\"Stock Exchange: {se}, data.shape: {se_data.shape}, data.dropna().shape: {se_data.dropna().shape}\")\n",
    "        data.append(se_data)\n",
    "\n",
    "    data = pd.concat(data, axis=1)\n",
    "\n",
    "\n",
    "    ###  Better get the result and do everything else manually.\n",
    "    if dropna:\n",
    "        data.dropna(inplace=True)\n",
    "\n",
    "    if round_decimals:\n",
    "        data = round(data, round_decimals)\n",
    "\n",
    "    if write:\n",
    "        if vertical: # (vectors = columns in text file - does not make much sense for Spark)\n",
    "            data.to_csv(os.path.join(output_folder_clusters, output_filename), index=False)\n",
    "\n",
    "        else: # BY DEFAULT WE WANT TRANSPOSED DATA AS PREVIOUSLY (vectors = rows in text file)\n",
    "            data = data.T\n",
    "            data.to_csv(os.path.join(output_folder_clusters, output_filename), header=False)\n",
    "\n",
    "\n",
    "    return data"
   ]
  },
  {
   "cell_type": "markdown",
   "metadata": {},
   "source": [
    "31.05.2020"
   ]
  },
  {
   "cell_type": "markdown",
   "metadata": {},
   "source": [
    "**European cluster**"
   ]
  },
  {
   "cell_type": "code",
   "execution_count": 37,
   "metadata": {},
   "outputs": [
    {
     "data": {
      "text/plain": [
       "['Amsterdam',\n",
       " 'Athen',\n",
       " 'Helsinki',\n",
       " 'Johannesburg',\n",
       " 'Kopenhagen',\n",
       " 'Lissabon',\n",
       " 'London',\n",
       " 'Madrid',\n",
       " 'Mailand',\n",
       " 'Oslo',\n",
       " 'Paris',\n",
       " 'Stockholm',\n",
       " 'Swiss-Exchange',\n",
       " 'Xetra']"
      ]
     },
     "execution_count": 37,
     "metadata": {},
     "output_type": "execute_result"
    }
   ],
   "source": [
    "european_stock_ex"
   ]
  },
  {
   "cell_type": "code",
   "execution_count": 41,
   "metadata": {
    "scrolled": true
   },
   "outputs": [
    {
     "name": "stderr",
     "output_type": "stream",
     "text": [
      "\r",
      "  0%|                                                                                           | 0/14 [00:00<?, ?it/s]"
     ]
    },
    {
     "name": "stdout",
     "output_type": "stream",
     "text": [
      "2018_Amsterdam_AALB.txt\n",
      "2018_Amsterdam_AGN.txt\n",
      "2018_Amsterdam_AKZA.txt\n",
      "2018_Amsterdam_APAM.txt\n",
      "2018_Amsterdam_ASM.txt\n",
      "2018_Amsterdam_ASML.txt\n",
      "2018_Amsterdam_BOKA.txt\n",
      "2018_Amsterdam_DSM.txt\n",
      "2018_Amsterdam_FUR.txt\n",
      "2018_Amsterdam_HEIA.txt\n",
      "2018_Amsterdam_HEIO.txt\n",
      "2018_Amsterdam_INGA.txt\n",
      "2018_Amsterdam_KPN.txt\n",
      "2018_Amsterdam_MT.txt\n",
      "2018_Amsterdam_OCI.txt\n",
      "2018_Amsterdam_PHIA.txt\n",
      "2018_Amsterdam_RAND.txt\n",
      "2018_Amsterdam_RDSA.txt\n",
      "2018_Amsterdam_REN.txt\n",
      "2018_Amsterdam_SBMO.txt\n",
      "2018_Amsterdam_TOM2.txt\n",
      "2018_Amsterdam_UNA.txt\n",
      "2018_Amsterdam_VPK.txt\n",
      "2018_Amsterdam_WHA.txt\n",
      "2018_Amsterdam_WKL.txt\n"
     ]
    },
    {
     "name": "stderr",
     "output_type": "stream",
     "text": [
      "\r",
      "  7%|█████▋                                                                          | 1/14 [04:38<1:00:14, 278.04s/it]"
     ]
    },
    {
     "name": "stdout",
     "output_type": "stream",
     "text": [
      "Amsterdam : Started writing...\n",
      "Stock Exchange: Amsterdam, data.shape: (2288, 50), data.dropna().shape: (2278, 50)\n",
      "2018_Athen_ALPHA.txt\n",
      "2018_Athen_BELA.txt\n",
      "2018_Athen_EEE.txt\n",
      "2018_Athen_ELLAKTOR.txt\n",
      "2018_Athen_ELPE.txt\n",
      "2018_Athen_ETE.txt\n",
      "2018_Athen_EUROB.txt\n",
      "2018_Athen_EYDAP.txt\n",
      "2018_Athen_GD.txt\n",
      "2018_Athen_GEKTERNA.txt\n",
      "2018_Athen_HTO.txt\n",
      "2018_Athen_MIG.txt\n",
      "2018_Athen_MOH.txt\n",
      "2018_Athen_MYTIL.txt\n",
      "2018_Athen_OPAP.txt\n",
      "2018_Athen_PPC.txt\n",
      "2018_Athen_TPEIR.txt\n",
      "2018_Athen_VIO.txt\n"
     ]
    },
    {
     "name": "stderr",
     "output_type": "stream",
     "text": [
      "\r",
      " 14%|███████████▋                                                                      | 2/14 [06:10<44:27, 222.26s/it]"
     ]
    },
    {
     "name": "stdout",
     "output_type": "stream",
     "text": [
      "Athen : Started writing...\n",
      "Stock Exchange: Athen, data.shape: (2231, 36), data.dropna().shape: (1852, 36)\n",
      "2018_Helsinki_CGCBV.txt\n",
      "2018_Helsinki_HUH1V.txt\n",
      "2018_Helsinki_KNEBV.txt\n",
      "2018_Helsinki_ORNBV.txt\n",
      "2018_Helsinki_OTE1V.txt\n",
      "2018_Helsinki_OUT1V.txt\n",
      "2018_Helsinki_STERV.txt\n",
      "2018_Helsinki_VALMT.txt\n",
      "2018_Helsinki_WRT1V.txt\n"
     ]
    },
    {
     "name": "stderr",
     "output_type": "stream",
     "text": [
      "\r",
      " 21%|█████████████████▌                                                                | 3/14 [07:35<33:13, 181.24s/it]"
     ]
    },
    {
     "name": "stdout",
     "output_type": "stream",
     "text": [
      "Helsinki : Started writing...\n",
      "Stock Exchange: Helsinki, data.shape: (2495, 18), data.dropna().shape: (2495, 18)\n",
      "2018_Johannesburg_J200.txt\n"
     ]
    },
    {
     "name": "stderr",
     "output_type": "stream",
     "text": [
      "\r",
      " 29%|███████████████████████▍                                                          | 4/14 [07:48<21:46, 130.60s/it]"
     ]
    },
    {
     "name": "stdout",
     "output_type": "stream",
     "text": [
      "Johannesburg : Started writing...\n",
      "Stock Exchange: Johannesburg, data.shape: (2211, 2), data.dropna().shape: (2211, 2)\n",
      "2018_Kopenhagen_CARL-B.txt\n",
      "2018_Kopenhagen_CHR.txt\n",
      "2018_Kopenhagen_COLO-B.txt\n",
      "2018_Kopenhagen_DANSKE.txt\n",
      "2018_Kopenhagen_DSV.txt\n",
      "2018_Kopenhagen_FLS.txt\n",
      "2018_Kopenhagen_GN.txt\n",
      "2018_Kopenhagen_JYSK.txt\n",
      "2018_Kopenhagen_MAERSK-A.txt\n",
      "2018_Kopenhagen_MAERSK-B.txt\n",
      "2018_Kopenhagen_NOVO-B.txt\n",
      "2018_Kopenhagen_NZYM-B.txt\n",
      "2018_Kopenhagen_PNDORA.txt\n",
      "2018_Kopenhagen_SYDB.txt\n",
      "2018_Kopenhagen_TOP.txt\n",
      "2018_Kopenhagen_TRYG.txt\n",
      "2018_Kopenhagen_VWS.txt\n"
     ]
    },
    {
     "name": "stderr",
     "output_type": "stream",
     "text": [
      "\r",
      " 36%|█████████████████████████████▎                                                    | 5/14 [10:31<21:03, 140.41s/it]"
     ]
    },
    {
     "name": "stdout",
     "output_type": "stream",
     "text": [
      "Kopenhagen : Started writing...\n",
      "Stock Exchange: Kopenhagen, data.shape: (2220, 34), data.dropna().shape: (2207, 34)\n",
      "2018_Lissabon_ALTR.txt\n",
      "2018_Lissabon_BCP.txt\n",
      "2018_Lissabon_CTT.txt\n",
      "2018_Lissabon_EDP.txt\n",
      "2018_Lissabon_EDPR.txt\n",
      "2018_Lissabon_EGL.txt\n",
      "2018_Lissabon_GALP.txt\n",
      "2018_Lissabon_JMT.txt\n",
      "2018_Lissabon_NOS.txt\n",
      "2018_Lissabon_RENE.txt\n",
      "2018_Lissabon_SEM.txt\n",
      "2018_Lissabon_SON.txt\n"
     ]
    },
    {
     "name": "stderr",
     "output_type": "stream",
     "text": [
      "\r",
      " 43%|███████████████████████████████████▏                                              | 6/14 [11:33<15:35, 116.93s/it]"
     ]
    },
    {
     "name": "stdout",
     "output_type": "stream",
     "text": [
      "Lissabon : Started writing...\n",
      "Stock Exchange: Lissabon, data.shape: (2288, 24), data.dropna().shape: (2204, 24)\n",
      "2018_London_AAL.txt\n",
      "2018_London_ABF.txt\n",
      "2018_London_ADM.txt\n",
      "2018_London_AGK.txt\n",
      "2018_London_AHT.txt\n",
      "2018_London_ANTO.txt\n",
      "2018_London_ASHM.txt\n",
      "2018_London_AV.txt\n",
      "2018_London_AVV.txt\n",
      "2018_London_AZN.txt\n",
      "2018_London_BA.txt\n",
      "2018_London_BAB.txt\n",
      "2018_London_BARC.txt\n",
      "2018_London_BATS.txt\n",
      "2018_London_BBY.txt\n",
      "2018_London_BDEV.txt\n",
      "2018_London_BKG.txt\n",
      "2018_London_BLND.txt\n",
      "2018_London_BNZL.txt\n",
      "2018_London_BP.txt\n",
      "2018_London_BRBY.txt\n",
      "2018_London_BT.txt\n",
      "2018_London_BVIC.txt\n",
      "2018_London_BWY.txt\n",
      "2018_London_CAPC.txt\n",
      "2018_London_CBG.txt\n",
      "2018_London_CCH.txt\n",
      "2018_London_CCL.txt\n",
      "2018_London_CNA.txt\n",
      "2018_London_CNE.txt\n",
      "2018_London_CPG.txt\n",
      "2018_London_CPI.txt\n",
      "2018_London_CRDA.txt\n",
      "2018_London_CRH.txt\n",
      "2018_London_DC.txt\n",
      "2018_London_DCC.txt\n",
      "2018_London_DGE.txt\n",
      "2018_London_DLAR.txt\n",
      "2018_London_DLG.txt\n",
      "2018_London_DLN.txt\n",
      "2018_London_DMGT.txt\n",
      "2018_London_DRX.txt\n",
      "2018_London_ECM.txt\n",
      "2018_London_ELM.txt\n",
      "2018_London_EMG.txt\n",
      "2018_London_ESNT.txt\n",
      "2018_London_EXPN.txt\n",
      "2018_London_EZJ.txt\n",
      "2018_London_FBRIC.txt\n",
      "2018_London_FGP.txt\n",
      "2018_London_FRES.txt\n",
      "2018_London_GENL.txt\n",
      "2018_London_GFS.txt\n",
      "2018_London_GLEN.txt\n",
      "2018_London_GPOR.txt\n",
      "2018_London_GSK.txt\n",
      "2018_London_HAS.txt\n",
      "2018_London_HIK.txt\n",
      "2018_London_HL.txt\n",
      "2018_London_HLMA.txt\n",
      "2018_London_HMSO.txt\n",
      "2018_London_HSBA.txt\n",
      "2018_London_HTG.txt\n",
      "2018_London_HWDN.txt\n",
      "2018_London_IAG.txt\n",
      "2018_London_ICP.txt\n",
      "2018_London_IGG.txt\n",
      "2018_London_IHG.txt\n",
      "2018_London_III.txt\n",
      "2018_London_IMI.txt\n",
      "2018_London_INCH.txt\n",
      "2018_London_INF.txt\n",
      "2018_London_INTU.txt\n",
      "2018_London_INVP.txt\n",
      "2018_London_IPF.txt\n",
      "2018_London_ITRK.txt\n",
      "2018_London_ITV.txt\n",
      "2018_London_JMAT.txt\n",
      "2018_London_JUP.txt\n",
      "2018_London_KAZ.txt\n",
      "2018_London_KGF.txt\n",
      "2018_London_KYGA.txt\n",
      "2018_London_LAND.txt\n",
      "2018_London_LGEN.txt\n",
      "2018_London_LLOY.txt\n",
      "2018_London_LSE.txt\n",
      "2018_London_MGGT.txt\n",
      "2018_London_MKS.txt\n",
      "2018_London_MNDI.txt\n",
      "2018_London_MRO.txt\n",
      "2018_London_MRW.txt\n",
      "2018_London_MTO.txt\n",
      "2018_London_NG.txt\n",
      "2018_London_NXT.txt\n",
      "2018_London_OCDO.txt\n",
      "2018_London_PFC.txt\n",
      "2018_London_PFG.txt\n",
      "2018_London_PMO.txt\n",
      "2018_London_PNN.txt\n",
      "2018_London_POLY.txt\n",
      "2018_London_PRU.txt\n",
      "2018_London_PSN.txt\n",
      "2018_London_PSON.txt\n",
      "2018_London_QQ.txt\n",
      "2018_London_RB.txt\n",
      "2018_London_RBS.txt\n",
      "2018_London_RDSA.txt\n",
      "2018_London_RDSB.txt\n",
      "2018_London_REL.txt\n",
      "2018_London_RIO.txt\n",
      "2018_London_RMV.txt\n",
      "2018_London_ROR.txt\n",
      "2018_London_RR.txt\n",
      "2018_London_RSA.txt\n",
      "2018_London_RTO.txt\n",
      "2018_London_RYA.txt\n",
      "2018_London_SBRY.txt\n",
      "2018_London_SDR.txt\n",
      "2018_London_SGC.txt\n",
      "2018_London_SGE.txt\n",
      "2018_London_SGRO.txt\n",
      "2018_London_SHB.txt\n",
      "2018_London_SMDS.txt\n",
      "2018_London_SMIN.txt\n",
      "2018_London_SN.txt\n",
      "2018_London_SPX.txt\n",
      "2018_London_SRP.txt\n",
      "2018_London_SSE.txt\n",
      "2018_London_STAN.txt\n",
      "2018_London_STJ.txt\n",
      "2018_London_SVT.txt\n",
      "2018_London_SXS.txt\n",
      "2018_London_TALK.txt\n",
      "2018_London_TATE.txt\n",
      "2018_London_TLW.txt\n",
      "2018_London_TPK.txt\n",
      "2018_London_TSCO.txt\n",
      "2018_London_TUI.txt\n",
      "2018_London_TW.txt\n",
      "2018_London_ULE.txt\n",
      "2018_London_ULVR.txt\n",
      "2018_London_UU.txt\n",
      "2018_London_VCT.txt\n",
      "2018_London_VOD.txt\n",
      "2018_London_WEIR.txt\n",
      "2018_London_WG.txt\n",
      "2018_London_WMH.txt\n",
      "2018_London_WPP.txt\n",
      "2018_London_WTB.txt\n",
      "London : Started writing...\n",
      "Stock Exchange: London, data.shape: (5274, 298), data.dropna().shape: (2174, 298)\n"
     ]
    },
    {
     "name": "stderr",
     "output_type": "stream",
     "text": [
      "\r",
      " 50%|████████████████████████████████████████                                        | 7/14 [37:23<1:03:48, 546.92s/it]"
     ]
    },
    {
     "name": "stdout",
     "output_type": "stream",
     "text": [
      "2018_Madrid_ABG.txt\n",
      "2018_Madrid_ACS.txt\n",
      "2018_Madrid_AMS.txt\n",
      "2018_Madrid_ANA.txt\n",
      "2018_Madrid_BBVA.txt\n",
      "2018_Madrid_BKIA.txt\n",
      "2018_Madrid_BKT.txt\n",
      "2018_Madrid_BME.txt\n",
      "2018_Madrid_CABK.txt\n",
      "2018_Madrid_DIA.txt\n",
      "2018_Madrid_EBRO.txt\n",
      "2018_Madrid_ELE.txt\n",
      "2018_Madrid_ENG.txt\n",
      "2018_Madrid_FCC.txt\n",
      "2018_Madrid_FER.txt\n",
      "2018_Madrid_GRF.txt\n",
      "2018_Madrid_IAG.txt\n",
      "2018_Madrid_IBE.txt\n",
      "2018_Madrid_IDR.txt\n",
      "2018_Madrid_ITX.txt\n",
      "2018_Madrid_MAP.txt\n",
      "2018_Madrid_MTS.txt\n",
      "2018_Madrid_OHL.txt\n",
      "2018_Madrid_REE.txt\n",
      "2018_Madrid_REP.txt\n",
      "2018_Madrid_SAB.txt\n",
      "2018_Madrid_SAN.txt\n",
      "2018_Madrid_SCYR.txt\n",
      "2018_Madrid_TEF.txt\n",
      "2018_Madrid_TL5.txt\n",
      "2018_Madrid_TRE.txt\n",
      "2018_Madrid_VIS.txt\n",
      "2018_Madrid_ZOT.txt\n"
     ]
    },
    {
     "name": "stderr",
     "output_type": "stream",
     "text": [
      "\r",
      " 57%|██████████████████████████████████████████████▊                                   | 8/14 [42:46<47:58, 479.74s/it]"
     ]
    },
    {
     "name": "stdout",
     "output_type": "stream",
     "text": [
      "Madrid : Started writing...\n",
      "Stock Exchange: Madrid, data.shape: (2292, 66), data.dropna().shape: (2238, 66)\n",
      "2018_Mailand_A2A.txt\n",
      "2018_Mailand_AGL.txt\n",
      "2018_Mailand_ATL.txt\n",
      "2018_Mailand_AZM.txt\n",
      "2018_Mailand_BPE.txt\n",
      "2018_Mailand_BPSO.txt\n",
      "2018_Mailand_BZU.txt\n",
      "2018_Mailand_CNHI.txt\n",
      "2018_Mailand_CPR.txt\n",
      "2018_Mailand_ENEL.txt\n",
      "2018_Mailand_ENI.txt\n",
      "2018_Mailand_EXO.txt\n",
      "2018_Mailand_FCA.txt\n",
      "2018_Mailand_FTSEMIB.txt\n",
      "2018_Mailand_G.txt\n",
      "2018_Mailand_ISP.txt\n",
      "2018_Mailand_MB.txt\n",
      "2018_Mailand_MONC.txt\n",
      "2018_Mailand_MS.txt\n",
      "2018_Mailand_PRY.txt\n",
      "2018_Mailand_SFER.txt\n",
      "2018_Mailand_SPM.txt\n",
      "2018_Mailand_SRG.txt\n",
      "2018_Mailand_STM.txt\n",
      "2018_Mailand_TEN.txt\n",
      "2018_Mailand_TIT.txt\n",
      "2018_Mailand_TOD.txt\n",
      "2018_Mailand_TRN.txt\n",
      "2018_Mailand_UBI.txt\n",
      "2018_Mailand_UCG.txt\n",
      "2018_Mailand_US.txt\n",
      "Mailand : Started writing...\n",
      "Stock Exchange: Mailand, data.shape: (2269, 62), data.dropna().shape: (2269, 62)\n"
     ]
    },
    {
     "name": "stderr",
     "output_type": "stream",
     "text": [
      "\r",
      " 64%|████████████████████████████████████████████████████▋                             | 9/14 [48:56<37:13, 446.69s/it]"
     ]
    },
    {
     "name": "stdout",
     "output_type": "stream",
     "text": [
      "2018_Oslo_AKA.txt\n",
      "2018_Oslo_AKSO.txt\n",
      "2018_Oslo_BWLPG.txt\n",
      "2018_Oslo_DNB.txt\n",
      "2018_Oslo_DNO.txt\n",
      "2018_Oslo_GJF.txt\n",
      "2018_Oslo_GOGL.txt\n",
      "2018_Oslo_NAS.txt\n",
      "2018_Oslo_NHY.txt\n",
      "2018_Oslo_OBX.txt\n",
      "2018_Oslo_ORK.txt\n",
      "2018_Oslo_PGS.txt\n",
      "2018_Oslo_PRS.txt\n",
      "2018_Oslo_REC.txt\n",
      "2018_Oslo_SDRL.txt\n",
      "2018_Oslo_STB.txt\n",
      "2018_Oslo_SUBC.txt\n",
      "2018_Oslo_TEL.txt\n",
      "2018_Oslo_TGS.txt\n",
      "2018_Oslo_YAR.txt\n"
     ]
    },
    {
     "name": "stderr",
     "output_type": "stream",
     "text": [
      "\r",
      " 71%|█████████████████████████████████████████████████████████▊                       | 10/14 [51:48<24:17, 364.35s/it]"
     ]
    },
    {
     "name": "stdout",
     "output_type": "stream",
     "text": [
      "Oslo : Started writing...\n",
      "Stock Exchange: Oslo, data.shape: (2022, 40), data.dropna().shape: (1796, 40)\n",
      "2018_Paris_AC.txt\n",
      "2018_Paris_ACA.txt\n",
      "2018_Paris_ADP.txt\n",
      "2018_Paris_AF.txt\n",
      "2018_Paris_AI.txt\n",
      "2018_Paris_AIR.txt\n",
      "2018_Paris_AKE.txt\n",
      "2018_Paris_ALO.txt\n",
      "2018_Paris_ATO.txt\n",
      "2018_Paris_BB.txt\n",
      "2018_Paris_BIM.txt\n",
      "2018_Paris_BN.txt\n",
      "2018_Paris_BNP.txt\n",
      "2018_Paris_BOL.txt\n",
      "2018_Paris_BVI.txt\n",
      "2018_Paris_CA.txt\n",
      "2018_Paris_CAP.txt\n",
      "2018_Paris_CDI.txt\n",
      "2018_Paris_CGG.txt\n",
      "2018_Paris_CNP.txt\n",
      "2018_Paris_CO.txt\n",
      "2018_Paris_CS.txt\n",
      "2018_Paris_DEC.txt\n",
      "2018_Paris_DG.txt\n",
      "2018_Paris_DSY.txt\n",
      "2018_Paris_EDEN.txt\n",
      "2018_Paris_EDF.txt\n",
      "2018_Paris_EN.txt\n",
      "2018_Paris_ETL.txt\n",
      "2018_Paris_FGR.txt\n",
      "2018_Paris_FP.txt\n",
      "2018_Paris_FR.txt\n",
      "2018_Paris_GET.txt\n",
      "2018_Paris_GFC.txt\n",
      "2018_Paris_GLE.txt\n",
      "2018_Paris_HO.txt\n",
      "2018_Paris_ICAD.txt\n",
      "2018_Paris_ILD.txt\n",
      "2018_Paris_ING.txt\n",
      "2018_Paris_KER.txt\n",
      "2018_Paris_KN.txt\n",
      "2018_Paris_LI.txt\n",
      "2018_Paris_LR.txt\n",
      "2018_Paris_MC.txt\n",
      "2018_Paris_MF.txt\n",
      "2018_Paris_ML.txt\n",
      "2018_Paris_MMB.txt\n",
      "2018_Paris_NK.txt\n",
      "2018_Paris_OR.txt\n",
      "2018_Paris_ORA.txt\n",
      "2018_Paris_PUB.txt\n",
      "2018_Paris_RCO.txt\n",
      "2018_Paris_RF.txt\n",
      "2018_Paris_RI.txt\n",
      "2018_Paris_RMS.txt\n",
      "2018_Paris_RNO.txt\n",
      "2018_Paris_RUI.txt\n",
      "2018_Paris_RXL.txt\n",
      "2018_Paris_SAF.txt\n",
      "2018_Paris_SAN.txt\n",
      "2018_Paris_SCR.txt\n",
      "2018_Paris_SESG.txt\n",
      "2018_Paris_SEV.txt\n",
      "2018_Paris_SGO.txt\n",
      "2018_Paris_SK.txt\n",
      "2018_Paris_STM.txt\n",
      "2018_Paris_SU.txt\n",
      "2018_Paris_SW.txt\n",
      "2018_Paris_UG.txt\n",
      "2018_Paris_VIE.txt\n",
      "2018_Paris_VIV.txt\n",
      "2018_Paris_VK.txt\n",
      "Paris : Started writing...\n",
      "Stock Exchange: Paris, data.shape: (2288, 144), data.dropna().shape: (2285, 144)\n"
     ]
    },
    {
     "name": "stderr",
     "output_type": "stream",
     "text": [
      "\r",
      " 79%|██████████████████████████████████████████████████████████████                 | 11/14 [1:04:10<23:52, 477.60s/it]"
     ]
    },
    {
     "name": "stdout",
     "output_type": "stream",
     "text": [
      "2018_Stockholm_ALFA.txt\n",
      "2018_Stockholm_ASSA-B.txt\n",
      "2018_Stockholm_ATCO-A.txt\n",
      "2018_Stockholm_ATCO-B.txt\n",
      "2018_Stockholm_AZN.txt\n",
      "2018_Stockholm_BOL.txt\n",
      "2018_Stockholm_CAST.txt\n",
      "2018_Stockholm_EKTA-B.txt\n",
      "2018_Stockholm_ELUX-B.txt\n",
      "2018_Stockholm_ERIC-B.txt\n",
      "2018_Stockholm_GETI-B.txt\n",
      "2018_Stockholm_HEXA-B.txt\n",
      "2018_Stockholm_HM-B.txt\n",
      "2018_Stockholm_HOLM-B.txt\n",
      "2018_Stockholm_HUFV-A.txt\n",
      "2018_Stockholm_HUSQ-B.txt\n",
      "2018_Stockholm_ICA.txt\n",
      "2018_Stockholm_INDU-A.txt\n",
      "2018_Stockholm_INVE-B.txt\n",
      "2018_Stockholm_JM.txt\n",
      "2018_Stockholm_KINV-B.txt\n",
      "2018_Stockholm_LUND-B.txt\n",
      "2018_Stockholm_LUPE.txt\n",
      "2018_Stockholm_MTG-B.txt\n",
      "2018_Stockholm_NCC-B.txt\n",
      "2018_Stockholm_RATO-B.txt\n",
      "2018_Stockholm_SAND.txt\n",
      "2018_Stockholm_SCA-B.txt\n",
      "2018_Stockholm_SEB-A.txt\n",
      "2018_Stockholm_SECU-B.txt\n",
      "2018_Stockholm_SHB-A.txt\n",
      "2018_Stockholm_SKA-B.txt\n",
      "2018_Stockholm_SKF-B.txt\n",
      "2018_Stockholm_SSAB-A.txt\n",
      "2018_Stockholm_SWED-A.txt\n",
      "2018_Stockholm_SWMA.txt\n",
      "2018_Stockholm_TEL2-B.txt\n",
      "2018_Stockholm_TREL-B.txt\n",
      "2018_Stockholm_VOLV-B.txt\n",
      "Stockholm : Started writing...\n",
      "Stock Exchange: Stockholm, data.shape: (2472, 78), data.dropna().shape: (2467, 78)\n"
     ]
    },
    {
     "name": "stderr",
     "output_type": "stream",
     "text": [
      "\r",
      " 86%|███████████████████████████████████████████████████████████████████▋           | 12/14 [1:11:30<15:32, 466.42s/it]"
     ]
    },
    {
     "name": "stdout",
     "output_type": "stream",
     "text": [
      "2018_Swiss-Exchange_ABBN.txt\n",
      "2018_Swiss-Exchange_ADEN.txt\n",
      "2018_Swiss-Exchange_BAER.txt\n",
      "2018_Swiss-Exchange_BARN.txt\n",
      "2018_Swiss-Exchange_BCVN.txt\n",
      "2018_Swiss-Exchange_CFR.txt\n",
      "2018_Swiss-Exchange_CLN.txt\n",
      "2018_Swiss-Exchange_CSGN.txt\n",
      "2018_Swiss-Exchange_DKSH.txt\n",
      "2018_Swiss-Exchange_EMSN.txt\n",
      "2018_Swiss-Exchange_FHZN.txt\n",
      "2018_Swiss-Exchange_FI-N.txt\n",
      "2018_Swiss-Exchange_GAM.txt\n",
      "2018_Swiss-Exchange_GEBN.txt\n",
      "2018_Swiss-Exchange_GIVN.txt\n",
      "2018_Swiss-Exchange_HELN.txt\n",
      "2018_Swiss-Exchange_KNIN.txt\n",
      "2018_Swiss-Exchange_LONN.txt\n",
      "2018_Swiss-Exchange_NESN.txt\n",
      "2018_Swiss-Exchange_NOVN.txt\n",
      "2018_Swiss-Exchange_OERL.txt\n",
      "2018_Swiss-Exchange_PARG.txt\n",
      "2018_Swiss-Exchange_PSPN.txt\n",
      "2018_Swiss-Exchange_ROG.txt\n",
      "2018_Swiss-Exchange_SCHP.txt\n",
      "2018_Swiss-Exchange_SCMN.txt\n",
      "2018_Swiss-Exchange_SGSN.txt\n",
      "2018_Swiss-Exchange_SLHN.txt\n",
      "2018_Swiss-Exchange_SOON.txt\n",
      "2018_Swiss-Exchange_SREN.txt\n",
      "2018_Swiss-Exchange_STMN.txt\n",
      "2018_Swiss-Exchange_SUN.txt\n",
      "2018_Swiss-Exchange_UBSG.txt\n",
      "2018_Swiss-Exchange_UHR.txt\n",
      "2018_Swiss-Exchange_VATN.txt\n",
      "2018_Swiss-Exchange_ZURN.txt\n",
      "Swiss-Exchange : Started writing...\n",
      "Stock Exchange: Swiss-Exchange, data.shape: (2241, 72), data.dropna().shape: (2208, 72)\n"
     ]
    },
    {
     "name": "stderr",
     "output_type": "stream",
     "text": [
      "\r",
      " 93%|█████████████████████████████████████████████████████████████████████████▎     | 13/14 [1:17:03<07:06, 426.25s/it]"
     ]
    },
    {
     "name": "stdout",
     "output_type": "stream",
     "text": [
      "2018_Xetra_508903.txt\n",
      "2018_Xetra_510300.txt\n",
      "2018_Xetra_514000.txt\n",
      "2018_Xetra_519000.txt\n",
      "2018_Xetra_520000.txt\n",
      "2018_Xetra_531370.txt\n",
      "2018_Xetra_540811.txt\n",
      "2018_Xetra_540888.txt\n",
      "2018_Xetra_543900.txt\n",
      "2018_Xetra_547040.txt\n",
      "2018_Xetra_550135.txt\n",
      "2018_Xetra_554550.txt\n",
      "2018_Xetra_555063.txt\n",
      "2018_Xetra_555200.txt\n",
      "2018_Xetra_555750.txt\n",
      "2018_Xetra_577330.txt\n",
      "2018_Xetra_578560.txt\n",
      "2018_Xetra_578580.txt\n",
      "2018_Xetra_579043.txt\n",
      "2018_Xetra_581005.txt\n",
      "2018_Xetra_590900.txt\n",
      "2018_Xetra_593700.txt\n",
      "2018_Xetra_604700.txt\n",
      "2018_Xetra_604843.txt\n",
      "2018_Xetra_607000.txt\n",
      "2018_Xetra_620200.txt\n",
      "2018_Xetra_623100.txt\n",
      "2018_Xetra_633500.txt\n",
      "2018_Xetra_659990.txt\n",
      "2018_Xetra_660200.txt\n",
      "2018_Xetra_663200.txt\n",
      "2018_Xetra_676650.txt\n",
      "2018_Xetra_691660.txt\n",
      "2018_Xetra_696960.txt\n",
      "2018_Xetra_701080.txt\n",
      "2018_Xetra_703000.txt\n",
      "2018_Xetra_703712.txt\n",
      "2018_Xetra_704230.txt\n",
      "2018_Xetra_710000.txt\n",
      "2018_Xetra_716460.txt\n",
      "2018_Xetra_723610.txt\n",
      "2018_Xetra_725750.txt\n",
      "2018_Xetra_729700.txt\n",
      "2018_Xetra_747206.txt\n",
      "2018_Xetra_748020.txt\n",
      "2018_Xetra_750000.txt\n",
      "2018_Xetra_766403.txt\n",
      "2018_Xetra_785602.txt\n",
      "2018_Xetra_823212.txt\n",
      "2018_Xetra_840221.txt\n",
      "2018_Xetra_840400.txt\n",
      "2018_Xetra_843002.txt\n",
      "2018_Xetra_927200.txt\n",
      "2018_Xetra_A0D655.txt\n",
      "2018_Xetra_A0D9PT.txt\n",
      "2018_Xetra_A0HN5C.txt\n",
      "2018_Xetra_A0LD6E.txt\n",
      "2018_Xetra_A0S848.txt\n",
      "2018_Xetra_A0WMPJ.txt\n",
      "2018_Xetra_A0Z2ZZ.txt\n",
      "2018_Xetra_A1DAHH.txt\n",
      "2018_Xetra_A1EWWW.txt\n",
      "2018_Xetra_A1J5RX.txt\n",
      "2018_Xetra_A1K023.txt\n",
      "2018_Xetra_A1PHFF.txt\n",
      "2018_Xetra_BASF11.txt\n",
      "2018_Xetra_BAY001.txt\n",
      "2018_Xetra_CBK100.txt\n",
      "2018_Xetra_ENAG99.txt\n",
      "2018_Xetra_EVNK01.txt\n",
      "2018_Xetra_KC0100.txt\n",
      "2018_Xetra_KSAG88.txt\n",
      "2018_Xetra_LED400.txt\n",
      "2018_Xetra_PAH003.txt\n",
      "2018_Xetra_PSM777.txt\n",
      "2018_Xetra_SYM999.txt\n",
      "2018_Xetra_TUAG00.txt\n",
      "2018_Xetra_WCH888.txt\n",
      "2018_Xetra_ZAL111.txt\n",
      "Xetra : Started writing...\n",
      "Stock Exchange: Xetra, data.shape: (2256, 158), data.dropna().shape: (2159, 158)\n"
     ]
    },
    {
     "name": "stderr",
     "output_type": "stream",
     "text": [
      "100%|███████████████████████████████████████████████████████████████████████████████| 14/14 [1:31:08<00:00, 390.64s/it]\n"
     ]
    }
   ],
   "source": [
    "for se in tqdm(european_stock_ex):\n",
    "    _ = aggregate_stocks_for_one_stock_exchange(se, [\"Close\", \"Volume\"], \"60min\", \n",
    "                                                dropna=False, \n",
    "                                                name_appendix_value_columns=True)"
   ]
  },
  {
   "cell_type": "code",
   "execution_count": 175,
   "metadata": {
    "scrolled": true
   },
   "outputs": [
    {
     "name": "stderr",
     "output_type": "stream",
     "text": [
      "\r",
      "  0%|                                                                                           | 0/14 [00:00<?, ?it/s]"
     ]
    },
    {
     "name": "stdout",
     "output_type": "stream",
     "text": [
      "Stock Exchange: Amsterdam, data.shape: (2288, 50), data.dropna().shape: (2278, 50)\n",
      "Stock Exchange: Athen, data.shape: (2231, 36), data.dropna().shape: (1852, 36)\n",
      "Stock Exchange: Helsinki, data.shape: (2495, 18), data.dropna().shape: (2495, 18)\n",
      "Stock Exchange: Johannesburg, data.shape: (2211, 2), data.dropna().shape: (2211, 2)\n",
      "Stock Exchange: Kopenhagen, data.shape: (2220, 34), data.dropna().shape: (2207, 34)\n",
      "Stock Exchange: Lissabon, data.shape: (2288, 24), data.dropna().shape: (2204, 24)\n"
     ]
    },
    {
     "name": "stderr",
     "output_type": "stream",
     "text": [
      " 79%|████████████████████████████████████████████████████████████████▍                 | 11/14 [00:00<00:00, 26.07it/s]"
     ]
    },
    {
     "name": "stdout",
     "output_type": "stream",
     "text": [
      "Stock Exchange: London, data.shape: (5274, 298), data.dropna().shape: (2174, 298)\n",
      "Stock Exchange: Madrid, data.shape: (2292, 66), data.dropna().shape: (2238, 66)\n",
      "Stock Exchange: Mailand, data.shape: (2269, 62), data.dropna().shape: (2269, 62)\n",
      "Stock Exchange: Oslo, data.shape: (2022, 40), data.dropna().shape: (1796, 40)\n",
      "Stock Exchange: Paris, data.shape: (2288, 144), data.dropna().shape: (2285, 144)\n",
      "Stock Exchange: Stockholm, data.shape: (2472, 78), data.dropna().shape: (2467, 78)\n"
     ]
    },
    {
     "name": "stderr",
     "output_type": "stream",
     "text": [
      "100%|██████████████████████████████████████████████████████████████████████████████████| 14/14 [00:00<00:00, 24.03it/s]\n"
     ]
    },
    {
     "name": "stdout",
     "output_type": "stream",
     "text": [
      "Stock Exchange: Swiss-Exchange, data.shape: (2241, 72), data.dropna().shape: (2208, 72)\n",
      "Stock Exchange: Xetra, data.shape: (2256, 158), data.dropna().shape: (2159, 158)\n"
     ]
    }
   ],
   "source": [
    "df = merge_cluster(european_stock_ex, \"60min\", None, #\"2018_European_SE_agg_15min.txt\", \n",
    "                   aligned_Q1=False,\n",
    "                   dropna=False, round_decimals=4, write=False, appdx=\"_cols_Close_Volume\")"
   ]
  },
  {
   "cell_type": "code",
   "execution_count": 176,
   "metadata": {},
   "outputs": [
    {
     "data": {
      "text/html": [
       "<div>\n",
       "<style scoped>\n",
       "    .dataframe tbody tr th:only-of-type {\n",
       "        vertical-align: middle;\n",
       "    }\n",
       "\n",
       "    .dataframe tbody tr th {\n",
       "        vertical-align: top;\n",
       "    }\n",
       "\n",
       "    .dataframe thead th {\n",
       "        text-align: right;\n",
       "    }\n",
       "</style>\n",
       "<table border=\"1\" class=\"dataframe\">\n",
       "  <thead>\n",
       "    <tr style=\"text-align: right;\">\n",
       "      <th></th>\n",
       "      <th>Amsterdam_AALB_Close_agg_60min</th>\n",
       "      <th>Amsterdam_AALB_Volume_agg_60min</th>\n",
       "      <th>Amsterdam_AGN_Close_agg_60min</th>\n",
       "      <th>Amsterdam_AGN_Volume_agg_60min</th>\n",
       "      <th>Amsterdam_AKZA_Close_agg_60min</th>\n",
       "      <th>Amsterdam_AKZA_Volume_agg_60min</th>\n",
       "      <th>Amsterdam_APAM_Close_agg_60min</th>\n",
       "      <th>Amsterdam_APAM_Volume_agg_60min</th>\n",
       "      <th>Amsterdam_ASM_Close_agg_60min</th>\n",
       "      <th>Amsterdam_ASM_Volume_agg_60min</th>\n",
       "      <th>...</th>\n",
       "      <th>Xetra_PSM777_Close_agg_60min</th>\n",
       "      <th>Xetra_PSM777_Volume_agg_60min</th>\n",
       "      <th>Xetra_SYM999_Close_agg_60min</th>\n",
       "      <th>Xetra_SYM999_Volume_agg_60min</th>\n",
       "      <th>Xetra_TUAG00_Close_agg_60min</th>\n",
       "      <th>Xetra_TUAG00_Volume_agg_60min</th>\n",
       "      <th>Xetra_WCH888_Close_agg_60min</th>\n",
       "      <th>Xetra_WCH888_Volume_agg_60min</th>\n",
       "      <th>Xetra_ZAL111_Close_agg_60min</th>\n",
       "      <th>Xetra_ZAL111_Volume_agg_60min</th>\n",
       "    </tr>\n",
       "  </thead>\n",
       "  <tbody>\n",
       "    <tr>\n",
       "      <th>2018-01-02 10:00:00</th>\n",
       "      <td>42.0405</td>\n",
       "      <td>540.2500</td>\n",
       "      <td>5.2876</td>\n",
       "      <td>26878.4107</td>\n",
       "      <td>72.0523</td>\n",
       "      <td>1887.9474</td>\n",
       "      <td>42.8086</td>\n",
       "      <td>308.6071</td>\n",
       "      <td>56.1705</td>\n",
       "      <td>563.1750</td>\n",
       "      <td>...</td>\n",
       "      <td>28.5743</td>\n",
       "      <td>2193.6786</td>\n",
       "      <td>70.8794</td>\n",
       "      <td>268.5484</td>\n",
       "      <td>17.1734</td>\n",
       "      <td>2546.9714</td>\n",
       "      <td>161.2113</td>\n",
       "      <td>146.5484</td>\n",
       "      <td>44.0331</td>\n",
       "      <td>688.6944</td>\n",
       "    </tr>\n",
       "    <tr>\n",
       "      <th>2018-01-02 11:00:00</th>\n",
       "      <td>42.0410</td>\n",
       "      <td>457.0417</td>\n",
       "      <td>5.2737</td>\n",
       "      <td>12319.6842</td>\n",
       "      <td>72.3327</td>\n",
       "      <td>1068.5306</td>\n",
       "      <td>42.7077</td>\n",
       "      <td>642.0909</td>\n",
       "      <td>56.4726</td>\n",
       "      <td>405.0465</td>\n",
       "      <td>...</td>\n",
       "      <td>28.6096</td>\n",
       "      <td>2135.2800</td>\n",
       "      <td>70.8926</td>\n",
       "      <td>302.6286</td>\n",
       "      <td>17.2436</td>\n",
       "      <td>874.3571</td>\n",
       "      <td>161.3814</td>\n",
       "      <td>103.8857</td>\n",
       "      <td>43.8234</td>\n",
       "      <td>400.8684</td>\n",
       "    </tr>\n",
       "    <tr>\n",
       "      <th>2018-01-02 12:00:00</th>\n",
       "      <td>42.0697</td>\n",
       "      <td>426.5806</td>\n",
       "      <td>5.2723</td>\n",
       "      <td>9020.9038</td>\n",
       "      <td>72.4694</td>\n",
       "      <td>518.8679</td>\n",
       "      <td>43.0342</td>\n",
       "      <td>867.7105</td>\n",
       "      <td>56.5936</td>\n",
       "      <td>608.3600</td>\n",
       "      <td>...</td>\n",
       "      <td>28.7577</td>\n",
       "      <td>2365.1042</td>\n",
       "      <td>70.7320</td>\n",
       "      <td>208.1714</td>\n",
       "      <td>17.3121</td>\n",
       "      <td>1684.4474</td>\n",
       "      <td>162.1300</td>\n",
       "      <td>255.4000</td>\n",
       "      <td>43.8522</td>\n",
       "      <td>284.6757</td>\n",
       "    </tr>\n",
       "  </tbody>\n",
       "</table>\n",
       "<p>3 rows × 1082 columns</p>\n",
       "</div>"
      ],
      "text/plain": [
       "                     Amsterdam_AALB_Close_agg_60min  \\\n",
       "2018-01-02 10:00:00                         42.0405   \n",
       "2018-01-02 11:00:00                         42.0410   \n",
       "2018-01-02 12:00:00                         42.0697   \n",
       "\n",
       "                     Amsterdam_AALB_Volume_agg_60min  \\\n",
       "2018-01-02 10:00:00                         540.2500   \n",
       "2018-01-02 11:00:00                         457.0417   \n",
       "2018-01-02 12:00:00                         426.5806   \n",
       "\n",
       "                     Amsterdam_AGN_Close_agg_60min  \\\n",
       "2018-01-02 10:00:00                         5.2876   \n",
       "2018-01-02 11:00:00                         5.2737   \n",
       "2018-01-02 12:00:00                         5.2723   \n",
       "\n",
       "                     Amsterdam_AGN_Volume_agg_60min  \\\n",
       "2018-01-02 10:00:00                      26878.4107   \n",
       "2018-01-02 11:00:00                      12319.6842   \n",
       "2018-01-02 12:00:00                       9020.9038   \n",
       "\n",
       "                     Amsterdam_AKZA_Close_agg_60min  \\\n",
       "2018-01-02 10:00:00                         72.0523   \n",
       "2018-01-02 11:00:00                         72.3327   \n",
       "2018-01-02 12:00:00                         72.4694   \n",
       "\n",
       "                     Amsterdam_AKZA_Volume_agg_60min  \\\n",
       "2018-01-02 10:00:00                        1887.9474   \n",
       "2018-01-02 11:00:00                        1068.5306   \n",
       "2018-01-02 12:00:00                         518.8679   \n",
       "\n",
       "                     Amsterdam_APAM_Close_agg_60min  \\\n",
       "2018-01-02 10:00:00                         42.8086   \n",
       "2018-01-02 11:00:00                         42.7077   \n",
       "2018-01-02 12:00:00                         43.0342   \n",
       "\n",
       "                     Amsterdam_APAM_Volume_agg_60min  \\\n",
       "2018-01-02 10:00:00                         308.6071   \n",
       "2018-01-02 11:00:00                         642.0909   \n",
       "2018-01-02 12:00:00                         867.7105   \n",
       "\n",
       "                     Amsterdam_ASM_Close_agg_60min  \\\n",
       "2018-01-02 10:00:00                        56.1705   \n",
       "2018-01-02 11:00:00                        56.4726   \n",
       "2018-01-02 12:00:00                        56.5936   \n",
       "\n",
       "                     Amsterdam_ASM_Volume_agg_60min  ...  \\\n",
       "2018-01-02 10:00:00                        563.1750  ...   \n",
       "2018-01-02 11:00:00                        405.0465  ...   \n",
       "2018-01-02 12:00:00                        608.3600  ...   \n",
       "\n",
       "                     Xetra_PSM777_Close_agg_60min  \\\n",
       "2018-01-02 10:00:00                       28.5743   \n",
       "2018-01-02 11:00:00                       28.6096   \n",
       "2018-01-02 12:00:00                       28.7577   \n",
       "\n",
       "                     Xetra_PSM777_Volume_agg_60min  \\\n",
       "2018-01-02 10:00:00                      2193.6786   \n",
       "2018-01-02 11:00:00                      2135.2800   \n",
       "2018-01-02 12:00:00                      2365.1042   \n",
       "\n",
       "                     Xetra_SYM999_Close_agg_60min  \\\n",
       "2018-01-02 10:00:00                       70.8794   \n",
       "2018-01-02 11:00:00                       70.8926   \n",
       "2018-01-02 12:00:00                       70.7320   \n",
       "\n",
       "                     Xetra_SYM999_Volume_agg_60min  \\\n",
       "2018-01-02 10:00:00                       268.5484   \n",
       "2018-01-02 11:00:00                       302.6286   \n",
       "2018-01-02 12:00:00                       208.1714   \n",
       "\n",
       "                     Xetra_TUAG00_Close_agg_60min  \\\n",
       "2018-01-02 10:00:00                       17.1734   \n",
       "2018-01-02 11:00:00                       17.2436   \n",
       "2018-01-02 12:00:00                       17.3121   \n",
       "\n",
       "                     Xetra_TUAG00_Volume_agg_60min  \\\n",
       "2018-01-02 10:00:00                      2546.9714   \n",
       "2018-01-02 11:00:00                       874.3571   \n",
       "2018-01-02 12:00:00                      1684.4474   \n",
       "\n",
       "                     Xetra_WCH888_Close_agg_60min  \\\n",
       "2018-01-02 10:00:00                      161.2113   \n",
       "2018-01-02 11:00:00                      161.3814   \n",
       "2018-01-02 12:00:00                      162.1300   \n",
       "\n",
       "                     Xetra_WCH888_Volume_agg_60min  \\\n",
       "2018-01-02 10:00:00                       146.5484   \n",
       "2018-01-02 11:00:00                       103.8857   \n",
       "2018-01-02 12:00:00                       255.4000   \n",
       "\n",
       "                     Xetra_ZAL111_Close_agg_60min  \\\n",
       "2018-01-02 10:00:00                       44.0331   \n",
       "2018-01-02 11:00:00                       43.8234   \n",
       "2018-01-02 12:00:00                       43.8522   \n",
       "\n",
       "                     Xetra_ZAL111_Volume_agg_60min  \n",
       "2018-01-02 10:00:00                       688.6944  \n",
       "2018-01-02 11:00:00                       400.8684  \n",
       "2018-01-02 12:00:00                       284.6757  \n",
       "\n",
       "[3 rows x 1082 columns]"
      ]
     },
     "execution_count": 176,
     "metadata": {},
     "output_type": "execute_result"
    }
   ],
   "source": [
    "df.head(3)"
   ]
  },
  {
   "cell_type": "code",
   "execution_count": 178,
   "metadata": {
    "scrolled": true
   },
   "outputs": [
    {
     "data": {
      "text/plain": [
       "((5275, 1082), (1275, 1082))"
      ]
     },
     "execution_count": 178,
     "metadata": {},
     "output_type": "execute_result"
    }
   ],
   "source": [
    "df.shape, df.dropna().shape"
   ]
  },
  {
   "cell_type": "code",
   "execution_count": 179,
   "metadata": {},
   "outputs": [
    {
     "data": {
      "text/plain": [
       "count                    5275\n",
       "unique                   5275\n",
       "top       2018-10-24 08:00:00\n",
       "freq                        1\n",
       "first     2018-01-02 03:00:00\n",
       "last      2018-12-31 23:00:00\n",
       "dtype: object"
      ]
     },
     "execution_count": 179,
     "metadata": {},
     "output_type": "execute_result"
    }
   ],
   "source": [
    "pd.Series(df.index).apply(lambda x: pd.Timestamp(x)).describe()"
   ]
  },
  {
   "cell_type": "code",
   "execution_count": 180,
   "metadata": {},
   "outputs": [],
   "source": [
    "df = df.set_index(pd.Series(df.index).apply(lambda x: pd.Timestamp(x)))"
   ]
  },
  {
   "cell_type": "code",
   "execution_count": 181,
   "metadata": {},
   "outputs": [
    {
     "data": {
      "text/plain": [
       "((5275, 1082), (1275, 1082))"
      ]
     },
     "execution_count": 181,
     "metadata": {},
     "output_type": "execute_result"
    }
   ],
   "source": [
    "df.shape, df.dropna().shape"
   ]
  },
  {
   "cell_type": "markdown",
   "metadata": {},
   "source": [
    "225 stocks"
   ]
  },
  {
   "cell_type": "code",
   "execution_count": 182,
   "metadata": {},
   "outputs": [
    {
     "data": {
      "text/plain": [
       "(5275, 456)"
      ]
     },
     "execution_count": 182,
     "metadata": {},
     "output_type": "execute_result"
    }
   ],
   "source": [
    "df_small = df[[x for x in df.columns if x.split(\"_\")[0] in ['London', 'Xetra']]].copy()\n",
    "df_small.shape"
   ]
  },
  {
   "cell_type": "code",
   "execution_count": 183,
   "metadata": {},
   "outputs": [
    {
     "name": "stdout",
     "output_type": "stream",
     "text": [
      "228 227\n"
     ]
    },
    {
     "data": {
      "text/plain": [
       "Stock_Exchange\n",
       "London    148\n",
       "Xetra      79\n",
       "Name: Stock, dtype: int64"
      ]
     },
     "execution_count": 183,
     "metadata": {},
     "output_type": "execute_result"
    }
   ],
   "source": [
    "cols = df[[x for x in df.columns if x.split(\"_\")[0] in ['London', 'Xetra']]].columns\n",
    "s1 = set([\"_\".join(x.split(\"_\")[:2]) for x in cols])\n",
    "\n",
    "stocks_eu_small = stocks_eu[stocks_eu['Stock_Exchange'].isin(['London', 'Xetra'])]\n",
    "s2 = set(stocks_eu_small.apply(lambda x: x['Stock_Exchange'] +  \"_\" + x['Stock'], axis=1).values)\n",
    "\n",
    "print(len(s1), len(s2))\n",
    "\n",
    "stocks_eu_small.groupby('Stock_Exchange')['Stock'].nunique()"
   ]
  },
  {
   "cell_type": "code",
   "execution_count": 187,
   "metadata": {},
   "outputs": [],
   "source": [
    "df_small = df_small.loc[:, ~df_small.columns.isin(\n",
    "    [x for x in df.columns if \"_\".join(x.split(\"_\")[:2]) in ['London_FBRIC', 'London_LLOY', 'London_TSCO']]\n",
    ")].copy()"
   ]
  },
  {
   "cell_type": "code",
   "execution_count": 189,
   "metadata": {},
   "outputs": [
    {
     "data": {
      "text/plain": [
       "((1329, 450), (550, 450))"
      ]
     },
     "execution_count": 189,
     "metadata": {},
     "output_type": "execute_result"
    }
   ],
   "source": [
    "# Q1\n",
    "df_small = df_small[df_small.index < '2018-04-01']\n",
    "df_small.shape, df_small.dropna().shape"
   ]
  },
  {
   "cell_type": "code",
   "execution_count": 190,
   "metadata": {},
   "outputs": [
    {
     "data": {
      "image/png": "[encoded data removed]",
      "text/plain": [
       "<Figure size 432x288 with 1 Axes>"
      ]
     },
     "metadata": {
      "needs_background": "light"
     },
     "output_type": "display_data"
    },
    {
     "data": {
      "image/png": "[encoded data removed]",
      "text/plain": [
       "<Figure size 432x288 with 1 Axes>"
      ]
     },
     "metadata": {
      "needs_background": "light"
     },
     "output_type": "display_data"
    },
    {
     "name": "stdout",
     "output_type": "stream",
     "text": [
      "(569, 450) (550, 450)\n"
     ]
    }
   ],
   "source": [
    "df_small.isnull().sum(axis=1).hist();\n",
    "plt.show()\n",
    "df_small.isnull().sum(axis=1)[df_small.isnull().sum(axis=1) < 400].hist();\n",
    "plt.show()\n",
    "print(df_small[df_small.isnull().sum(axis=1) < 400].shape, df_small[df_small.isnull().sum(axis=1) < 400].dropna().shape)"
   ]
  },
  {
   "cell_type": "code",
   "execution_count": 138,
   "metadata": {},
   "outputs": [
    {
     "name": "stdout",
     "output_type": "stream",
     "text": [
      "(550, 456)\n"
     ]
    }
   ],
   "source": [
    "df_small.dropna(inplace=True)\n",
    "print(df_small.shape)"
   ]
  },
  {
   "cell_type": "code",
   "execution_count": 115,
   "metadata": {},
   "outputs": [
    {
     "data": {
      "text/plain": [
       "Xetra_A1K023_Close_agg_60min     3\n",
       "Xetra_A1K023_Volume_agg_60min    3\n",
       "London_DLAR_Close_agg_60min      5\n",
       "London_DLAR_Volume_agg_60min     5\n",
       "London_GENL_Close_agg_60min      7\n",
       "London_GENL_Volume_agg_60min     7\n",
       "London_IPF_Close_agg_60min       7\n",
       "London_IPF_Volume_agg_60min      7\n",
       "dtype: int64"
      ]
     },
     "execution_count": 115,
     "metadata": {},
     "output_type": "execute_result"
    }
   ],
   "source": [
    "df_small[df_small.isnull().sum(axis=1) < 400].isnull().sum().sort_values().iloc[-8:]"
   ]
  },
  {
   "cell_type": "code",
   "execution_count": 100,
   "metadata": {},
   "outputs": [],
   "source": [
    "# London_GENL, London_IPF - exclude;"
   ]
  },
  {
   "cell_type": "code",
   "execution_count": 116,
   "metadata": {
    "scrolled": true
   },
   "outputs": [
    {
     "data": {
      "text/plain": [
       "(569, 456)"
      ]
     },
     "execution_count": 116,
     "metadata": {},
     "output_type": "execute_result"
    }
   ],
   "source": [
    "df_small[df_small.isnull().sum(axis=1) < 400].shape"
   ]
  },
  {
   "cell_type": "code",
   "execution_count": 156,
   "metadata": {},
   "outputs": [],
   "source": [
    "cols_delete = [\n",
    "    'London_FBRIC_Volume_agg_60min',\n",
    "    'London_FBRIC_Close_agg_60min',\n",
    "    'London_LLOY_Volume_agg_60min',\n",
    "    'London_LLOY_Close_agg_60min',\n",
    "    'London_TSCO_Volume_agg_60min',\n",
    "    'London_TSCO_Close_agg_60min'\n",
    "]\n",
    "\n",
    "df_small = df_small.loc[:, ~df_small.columns.isin(cols_delete)].copy()"
   ]
  },
  {
   "cell_type": "code",
   "execution_count": 158,
   "metadata": {},
   "outputs": [
    {
     "name": "stdout",
     "output_type": "stream",
     "text": [
      "(550, 450) (550, 450)\n"
     ]
    }
   ],
   "source": [
    "print(df_small.shape, df_small.dropna().shape)"
   ]
  },
  {
   "cell_type": "code",
   "execution_count": 159,
   "metadata": {},
   "outputs": [
    {
     "name": "stdout",
     "output_type": "stream",
     "text": [
      "(550, 450) (550, 450)\n"
     ]
    }
   ],
   "source": [
    "df = df_small.copy()\n",
    "print(df.shape, df.dropna().shape)"
   ]
  },
  {
   "cell_type": "markdown",
   "metadata": {},
   "source": [
    "saving df_small Q1"
   ]
  },
  {
   "cell_type": "code",
   "execution_count": 160,
   "metadata": {},
   "outputs": [],
   "source": [
    "dft = df.T.copy()"
   ]
  },
  {
   "cell_type": "code",
   "execution_count": 161,
   "metadata": {},
   "outputs": [
    {
     "data": {
      "text/plain": [
       "((450, 550), (450, 550), (450, 550))"
      ]
     },
     "execution_count": 161,
     "metadata": {},
     "output_type": "execute_result"
    }
   ],
   "source": [
    "dft.shape, dft.dropna().shape, dft.dropna(axis=1).shape"
   ]
  },
  {
   "cell_type": "code",
   "execution_count": 162,
   "metadata": {},
   "outputs": [],
   "source": [
    "#dft.to_csv(os.path.join(OUT_FOLDER_CLUSTERS, \"2018_Q1_European_450_agg_60min_round4.txt\"), header=False)"
   ]
  },
  {
   "cell_type": "code",
   "execution_count": 163,
   "metadata": {},
   "outputs": [],
   "source": [
    "dft_cut350 = dft.iloc[:350, :].copy()"
   ]
  },
  {
   "cell_type": "code",
   "execution_count": 164,
   "metadata": {},
   "outputs": [
    {
     "data": {
      "text/plain": [
       "(350, 550)"
      ]
     },
     "execution_count": 164,
     "metadata": {},
     "output_type": "execute_result"
    }
   ],
   "source": [
    "dft_cut350.shape"
   ]
  },
  {
   "cell_type": "code",
   "execution_count": 165,
   "metadata": {},
   "outputs": [],
   "source": [
    "#dft_cut350.to_csv(os.path.join(OUT_FOLDER_CLUSTERS, \"2018_Q1_European_450_agg_60min_round4_CUT_350vectors.txt\"), header=False)"
   ]
  },
  {
   "cell_type": "code",
   "execution_count": 166,
   "metadata": {},
   "outputs": [],
   "source": [
    "dft_cut140 = dft.iloc[:140, :].copy()"
   ]
  },
  {
   "cell_type": "code",
   "execution_count": 167,
   "metadata": {
    "scrolled": true
   },
   "outputs": [
    {
     "data": {
      "text/plain": [
       "(140, 550)"
      ]
     },
     "execution_count": 167,
     "metadata": {},
     "output_type": "execute_result"
    }
   ],
   "source": [
    "dft_cut140.shape"
   ]
  },
  {
   "cell_type": "code",
   "execution_count": 168,
   "metadata": {},
   "outputs": [],
   "source": [
    "#dft_cut140.to_csv(os.path.join(OUT_FOLDER_CLUSTERS, \"2018_Q1_European_450_agg_60min_round4_CUT_140vectors.txt\"), header=False)"
   ]
  },
  {
   "cell_type": "code",
   "execution_count": 169,
   "metadata": {},
   "outputs": [],
   "source": [
    "dft_cut80 = dft.iloc[:80, :].copy()"
   ]
  },
  {
   "cell_type": "code",
   "execution_count": 170,
   "metadata": {
    "scrolled": true
   },
   "outputs": [
    {
     "data": {
      "text/plain": [
       "(80, 550)"
      ]
     },
     "execution_count": 170,
     "metadata": {},
     "output_type": "execute_result"
    }
   ],
   "source": [
    "dft_cut80.shape"
   ]
  },
  {
   "cell_type": "code",
   "execution_count": 171,
   "metadata": {},
   "outputs": [],
   "source": [
    "# dft_cut80.to_csv(os.path.join(OUT_FOLDER_CLUSTERS, \"2018_Q1_European_450_agg_60min_round4_CUT_80vectors.txt\"), header=False)"
   ]
  },
  {
   "cell_type": "markdown",
   "metadata": {},
   "source": [
    "```python\n",
    "\"2018_Q1_European_450_agg_60min_round4.txt\"  # defautlt (450 vectors)\n",
    "\n",
    "\n",
    "\"2018_European_450_agg_60min_round4_CUT_350vectors.txt\"\n",
    "\n",
    "\n",
    "\"2018_European_450_agg_60min_round4_CUT_140vectors.txt\"\n",
    "\n",
    "\n",
    "\"2018_European_450_agg_60min_round4_CUT_80vectors.txt\"\n",
    "```"
   ]
  },
  {
   "cell_type": "markdown",
   "metadata": {},
   "source": [
    "Preprocessing:\n",
    "    \n",
    "    1. European cluster (14 stock exchanges, 540 stocks).\n",
    "    2. Selected 225 stocks from London and Xetra stock exchanges.\n",
    "    2. Took Close price + Volume for each => 450 vectors.\n",
    "    3. The data was taken for Q1 of the year 2018, aggregated to 1 hour frequency.\n",
    "    4. Initial vector length: 1329. \n",
    "        Only those observations, for which less than 400 vectors (out of 450) have missing values were left => \n",
    "        that resulted in a vector length of 569. Then we decided to drop the remaining null values => length became 550.\n",
    "    \n",
    "    Thus, resulting dataset (transposed, so that rows are vectors) is: (450, 550).\n",
    "    \"2018_European_450_agg_60min_round4.txt\""
   ]
  }
 ],
 "metadata": {
  "kernelspec": {
   "display_name": "Python 3",
   "language": "python",
   "name": "python3"
  },
  "language_info": {
   "codemirror_mode": {
    "name": "ipython",
    "version": 3
   },
   "file_extension": ".py",
   "mimetype": "text/x-python",
   "name": "python",
   "nbconvert_exporter": "python",
   "pygments_lexer": "ipython3",
   "version": "3.7.10"
  },
  "pycharm": {
   "stem_cell": {
    "cell_type": "raw",
    "metadata": {
     "collapsed": false
    },
    "source": []
   }
  }
 },
 "nbformat": 4,
 "nbformat_minor": 2
}
